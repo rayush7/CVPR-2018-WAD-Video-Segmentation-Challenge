{
 "cells": [
  {
   "cell_type": "code",
   "execution_count": 3,
   "metadata": {},
   "outputs": [],
   "source": [
    "import numpy as np\n",
    "import pandas as pd\n",
    "import os\n",
    "from eval import compute_iou"
   ]
  },
  {
   "cell_type": "code",
   "execution_count": 2,
   "metadata": {},
   "outputs": [],
   "source": [
    "sample_val_label = '/home/ayush/Instance_Segmentation/all/Sample_Dataset/sample_val_label'\n",
    "sample_label_val_pred = '/home/ayush/Instance_Segmentation/all/Sample_Dataset/sample_label_val_pred'"
   ]
  },
  {
   "cell_type": "code",
   "execution_count": 8,
   "metadata": {},
   "outputs": [],
   "source": [
    "sample_val_label_list = os.listdir(sample_val_label)\n",
    "sample_label_val_pred_list = os.listdir(sample_label_val_pred)\n",
    "\n",
    "sample_val_label_list = [os.path.join(sample_val_label,x) for x in sample_val_label_list]\n",
    "sample_label_val_pred_list = [os.path.join(sample_label_val_pred,x) for x in sample_label_val_pred_list]\n",
    "\n",
    "sample_val_label_list.sort()\n",
    "sample_label_val_pred_list.sort()"
   ]
  },
  {
   "cell_type": "code",
   "execution_count": 9,
   "metadata": {},
   "outputs": [
    {
     "data": {
      "text/plain": [
       "['/home/ayush/Instance_Segmentation/all/Sample_Dataset/sample_val_label/170908_072823672_Camera_5_instanceIds.png',\n",
       " '/home/ayush/Instance_Segmentation/all/Sample_Dataset/sample_val_label/170908_072823807_Camera_5_instanceIds.png',\n",
       " '/home/ayush/Instance_Segmentation/all/Sample_Dataset/sample_val_label/170908_072823942_Camera_5_instanceIds.png',\n",
       " '/home/ayush/Instance_Segmentation/all/Sample_Dataset/sample_val_label/170908_072824077_Camera_5_instanceIds.png',\n",
       " '/home/ayush/Instance_Segmentation/all/Sample_Dataset/sample_val_label/170908_072824212_Camera_5_instanceIds.png',\n",
       " '/home/ayush/Instance_Segmentation/all/Sample_Dataset/sample_val_label/170908_072824347_Camera_5_instanceIds.png',\n",
       " '/home/ayush/Instance_Segmentation/all/Sample_Dataset/sample_val_label/170908_072824482_Camera_5_instanceIds.png',\n",
       " '/home/ayush/Instance_Segmentation/all/Sample_Dataset/sample_val_label/170908_072824617_Camera_5_instanceIds.png',\n",
       " '/home/ayush/Instance_Segmentation/all/Sample_Dataset/sample_val_label/170908_072824752_Camera_5_instanceIds.png',\n",
       " '/home/ayush/Instance_Segmentation/all/Sample_Dataset/sample_val_label/170908_072824887_Camera_5_instanceIds.png']"
      ]
     },
     "execution_count": 9,
     "metadata": {},
     "output_type": "execute_result"
    }
   ],
   "source": [
    "sample_val_label_list[0:10]"
   ]
  },
  {
   "cell_type": "code",
   "execution_count": 10,
   "metadata": {},
   "outputs": [
    {
     "data": {
      "text/plain": [
       "['/home/ayush/Instance_Segmentation/all/Sample_Dataset/sample_label_val_pred/170908_072823672_Camera_5.png',\n",
       " '/home/ayush/Instance_Segmentation/all/Sample_Dataset/sample_label_val_pred/170908_072823807_Camera_5.png',\n",
       " '/home/ayush/Instance_Segmentation/all/Sample_Dataset/sample_label_val_pred/170908_072823942_Camera_5.png',\n",
       " '/home/ayush/Instance_Segmentation/all/Sample_Dataset/sample_label_val_pred/170908_072824077_Camera_5.png',\n",
       " '/home/ayush/Instance_Segmentation/all/Sample_Dataset/sample_label_val_pred/170908_072824212_Camera_5.png',\n",
       " '/home/ayush/Instance_Segmentation/all/Sample_Dataset/sample_label_val_pred/170908_072824347_Camera_5.png',\n",
       " '/home/ayush/Instance_Segmentation/all/Sample_Dataset/sample_label_val_pred/170908_072824482_Camera_5.png',\n",
       " '/home/ayush/Instance_Segmentation/all/Sample_Dataset/sample_label_val_pred/170908_072824617_Camera_5.png',\n",
       " '/home/ayush/Instance_Segmentation/all/Sample_Dataset/sample_label_val_pred/170908_072824752_Camera_5.png',\n",
       " '/home/ayush/Instance_Segmentation/all/Sample_Dataset/sample_label_val_pred/170908_072824887_Camera_5.png']"
      ]
     },
     "execution_count": 10,
     "metadata": {},
     "output_type": "execute_result"
    }
   ],
   "source": [
    "sample_label_val_pred_list[0:10]"
   ]
  },
  {
   "cell_type": "code",
   "execution_count": 11,
   "metadata": {},
   "outputs": [
    {
     "name": "stderr",
     "output_type": "stream",
     "text": [
      "7it [00:00, 67.93it/s]"
     ]
    },
    {
     "name": "stdout",
     "output_type": "stream",
     "text": [
      "Computing iou for car ...\n"
     ]
    },
    {
     "name": "stderr",
     "output_type": "stream",
     "text": [
      "2496it [00:34, 72.69it/s]\n",
      "9it [00:00, 79.16it/s]"
     ]
    },
    {
     "name": "stdout",
     "output_type": "stream",
     "text": [
      "Computing iou for motorbicycle ...\n"
     ]
    },
    {
     "name": "stderr",
     "output_type": "stream",
     "text": [
      "2496it [00:31, 79.93it/s]\n",
      "9it [00:00, 79.20it/s]"
     ]
    },
    {
     "name": "stdout",
     "output_type": "stream",
     "text": [
      "Computing iou for bicycle ...\n"
     ]
    },
    {
     "name": "stderr",
     "output_type": "stream",
     "text": [
      "2496it [00:31, 80.29it/s]\n",
      "9it [00:00, 79.19it/s]"
     ]
    },
    {
     "name": "stdout",
     "output_type": "stream",
     "text": [
      "Computing iou for person ...\n"
     ]
    },
    {
     "name": "stderr",
     "output_type": "stream",
     "text": [
      "2496it [00:31, 78.62it/s]\n",
      "8it [00:00, 75.48it/s]"
     ]
    },
    {
     "name": "stdout",
     "output_type": "stream",
     "text": [
      "Computing iou for truck ...\n"
     ]
    },
    {
     "name": "stderr",
     "output_type": "stream",
     "text": [
      "2496it [00:32, 77.59it/s]\n",
      "9it [00:00, 80.35it/s]"
     ]
    },
    {
     "name": "stdout",
     "output_type": "stream",
     "text": [
      "Computing iou for bus ...\n"
     ]
    },
    {
     "name": "stderr",
     "output_type": "stream",
     "text": [
      "2496it [00:30, 78.61it/s]\n",
      "8it [00:00, 75.66it/s]"
     ]
    },
    {
     "name": "stdout",
     "output_type": "stream",
     "text": [
      "Computing iou for tricycle ...\n"
     ]
    },
    {
     "name": "stderr",
     "output_type": "stream",
     "text": [
      "2496it [00:33, 75.39it/s]\n"
     ]
    }
   ],
   "source": [
    "class_iou_dict = compute_iou(path_true=sample_val_label_list,path_pred=sample_label_val_pred_list)"
   ]
  },
  {
   "cell_type": "code",
   "execution_count": 12,
   "metadata": {},
   "outputs": [
    {
     "data": {
      "text/plain": [
       "{'car': 0.28997333041635937,\n",
       " 'motorbicycle': 0.0,\n",
       " 'bicycle': 0.0,\n",
       " 'person': 0.009590049113328697,\n",
       " 'truck': 0.0035388417026653665,\n",
       " 'bus': 0.013210846731283666,\n",
       " 'tricycle': 0.0}"
      ]
     },
     "execution_count": 12,
     "metadata": {},
     "output_type": "execute_result"
    }
   ],
   "source": [
    "class_iou_dict"
   ]
  },
  {
   "cell_type": "code",
   "execution_count": null,
   "metadata": {},
   "outputs": [],
   "source": []
  }
 ],
 "metadata": {
  "kernelspec": {
   "display_name": "Python 3",
   "language": "python",
   "name": "python3"
  },
  "language_info": {
   "codemirror_mode": {
    "name": "ipython",
    "version": 3
   },
   "file_extension": ".py",
   "mimetype": "text/x-python",
   "name": "python",
   "nbconvert_exporter": "python",
   "pygments_lexer": "ipython3",
   "version": "3.6.8"
  }
 },
 "nbformat": 4,
 "nbformat_minor": 2
}
