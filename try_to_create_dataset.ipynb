{
 "cells": [
  {
   "cell_type": "code",
   "execution_count": 1,
   "metadata": {},
   "outputs": [],
   "source": [
    "from PIL import Image\n",
    "from create_dataset import create_coco\n",
    "\n",
    "import matplotlib.pyplot as plt\n",
    "import os\n",
    "import numpy as np\n",
    "import tqdm\n",
    "import datetime\n",
    "import json\n",
    "%matplotlib inline\n",
    "\n",
    "label_name = os.listdir('./Dataset/sample_train_label/')\n",
    "label_path = ['./Dataset/sample_train_label/'+name for name in label_name]\n",
    "label_path.sort()\n",
    "############# To Delete ###############\n",
    "label_path = label_path[0:1]\n",
    "############# To Delete ###############\n",
    "\n",
    "img_name = os.listdir('./Dataset/sample_train_color/')\n",
    "img_path = ['./Dataset/sample_train_color/'+name for name in img_name]\n",
    "img_path.sort()\n",
    "############# To Delete #1#############\n",
    "img_path = img_path[0:1]\n",
    "############# To Delete ###############"
   ]
  },
  {
   "cell_type": "code",
   "execution_count": null,
   "metadata": {},
   "outputs": [
    {
     "name": "stderr",
     "output_type": "stream",
     "text": [
      "\r",
      "0it [00:00, ?it/s]"
     ]
    }
   ],
   "source": [
    "create_coco(img_path, label_path, './Dataset/data.json', crop_size=[75, 75, 28, 28], down_scale=4)\n",
    "#create_coco(img_path, label_path, './Dataset/data.json')"
   ]
  },
  {
   "cell_type": "code",
   "execution_count": null,
   "metadata": {},
   "outputs": [],
   "source": []
  }
 ],
 "metadata": {
  "anaconda-cloud": {},
  "kernelspec": {
   "display_name": "Python 3",
   "language": "python",
   "name": "python3"
  },
  "language_info": {
   "codemirror_mode": {
    "name": "ipython",
    "version": 3
   },
   "file_extension": ".py",
   "mimetype": "text/x-python",
   "name": "python",
   "nbconvert_exporter": "python",
   "pygments_lexer": "ipython3",
   "version": "3.7.2"
  }
 },
 "nbformat": 4,
 "nbformat_minor": 1
}
