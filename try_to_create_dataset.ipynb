{
 "cells": [
  {
   "cell_type": "code",
   "execution_count": 1,
   "metadata": {},
   "outputs": [],
   "source": [
    "from PIL import Image\n",
    "from create_dataset import create_coco, create_object2color\n",
    "\n",
    "import matplotlib.pyplot as plt\n",
    "import os\n",
    "import numpy as np\n",
    "import tqdm\n",
    "import datetime\n",
    "import json\n",
    "%matplotlib inline\n",
    "\n",
    "label_name = os.listdir('./Dataset/sample_train_label/')\n",
    "label_path = ['./Dataset/sample_train_label/'+name for name in label_name]\n",
    "label_path.sort()\n",
    "############# To Delete ###############\n",
    "label_path = label_path\n",
    "############# To Delete ###############\n",
    "\n",
    "img_name = os.listdir('./Dataset/sample_train_color/')\n",
    "img_path = ['./Dataset/sample_train_color/'+name for name in img_name]\n",
    "img_path.sort()\n",
    "############# To Delete #1#############\n",
    "img_path = img_path\n",
    "############# To Delete ###############"
   ]
  },
  {
   "cell_type": "code",
   "execution_count": 2,
   "metadata": {},
   "outputs": [
    {
     "name": "stdout",
     "output_type": "stream",
     "text": [
      "Creating image list...\n",
      "object2color is obtained...\n"
     ]
    },
    {
     "ename": "UnboundLocalError",
     "evalue": "local variable 'class_instance' referenced before assignment",
     "output_type": "error",
     "traceback": [
      "\u001b[1;31m---------------------------------------------------------------------------\u001b[0m",
      "\u001b[1;31mUnboundLocalError\u001b[0m                         Traceback (most recent call last)",
      "\u001b[1;32m<ipython-input-2-be53d29ea516>\u001b[0m in \u001b[0;36m<module>\u001b[1;34m\u001b[0m\n\u001b[0;32m      1\u001b[0m \u001b[0mobject2color\u001b[0m \u001b[1;33m=\u001b[0m \u001b[0mnp\u001b[0m\u001b[1;33m.\u001b[0m\u001b[0mload\u001b[0m\u001b[1;33m(\u001b[0m\u001b[1;34m'./Dataset/object2color.npy'\u001b[0m\u001b[1;33m)\u001b[0m\u001b[1;33m\u001b[0m\u001b[1;33m\u001b[0m\u001b[0m\n\u001b[1;32m----> 2\u001b[1;33m \u001b[0mcreate_coco\u001b[0m\u001b[1;33m(\u001b[0m\u001b[0mimg_path\u001b[0m\u001b[1;33m,\u001b[0m \u001b[0mlabel_path\u001b[0m\u001b[1;33m,\u001b[0m \u001b[1;34m'./Dataset/data.json'\u001b[0m\u001b[1;33m,\u001b[0m \u001b[0mobject2color\u001b[0m\u001b[1;33m=\u001b[0m\u001b[0mobject2color\u001b[0m\u001b[1;33m,\u001b[0m \u001b[0mcrop_size\u001b[0m\u001b[1;33m=\u001b[0m\u001b[1;33m[\u001b[0m\u001b[1;36m75\u001b[0m\u001b[1;33m,\u001b[0m \u001b[1;36m75\u001b[0m\u001b[1;33m,\u001b[0m \u001b[1;36m28\u001b[0m\u001b[1;33m,\u001b[0m \u001b[1;36m28\u001b[0m\u001b[1;33m]\u001b[0m\u001b[1;33m,\u001b[0m \u001b[0mdown_scale\u001b[0m\u001b[1;33m=\u001b[0m\u001b[1;36m4\u001b[0m\u001b[1;33m)\u001b[0m\u001b[1;33m\u001b[0m\u001b[1;33m\u001b[0m\u001b[0m\n\u001b[0m\u001b[0;32m      3\u001b[0m \u001b[1;31m#create_coco(img_path, label_path, './Dataset/data.json')\u001b[0m\u001b[1;33m\u001b[0m\u001b[1;33m\u001b[0m\u001b[1;33m\u001b[0m\u001b[0m\n",
      "\u001b[1;32mD:\\Tsou\\Documents\\Supelec\\3eme_annee\\Computer_Vision\\Project\\CVPR-2018-WAD-Video-Segmentation-Challenge\\create_dataset.py\u001b[0m in \u001b[0;36mcreate_coco\u001b[1;34m(img_path, label_path, destination, object2color, crop_size, down_scale)\u001b[0m\n\u001b[0;32m     46\u001b[0m     \u001b[1;32melse\u001b[0m\u001b[1;33m:\u001b[0m\u001b[1;33m\u001b[0m\u001b[1;33m\u001b[0m\u001b[0m\n\u001b[0;32m     47\u001b[0m         \u001b[0mprint\u001b[0m\u001b[1;33m(\u001b[0m\u001b[1;34m'object2color is obtained...'\u001b[0m\u001b[1;33m)\u001b[0m\u001b[1;33m\u001b[0m\u001b[1;33m\u001b[0m\u001b[0m\n\u001b[1;32m---> 48\u001b[1;33m     \u001b[0mcategory_ids\u001b[0m \u001b[1;33m=\u001b[0m \u001b[0mcreate_color2category\u001b[0m\u001b[1;33m(\u001b[0m\u001b[0mclass_instance\u001b[0m\u001b[1;33m,\u001b[0m \u001b[0mobject2color\u001b[0m\u001b[1;33m)\u001b[0m\u001b[1;33m\u001b[0m\u001b[1;33m\u001b[0m\u001b[0m\n\u001b[0m\u001b[0;32m     49\u001b[0m \u001b[1;33m\u001b[0m\u001b[0m\n\u001b[0;32m     50\u001b[0m     \u001b[0mis_crowd\u001b[0m \u001b[1;33m=\u001b[0m \u001b[1;36m0\u001b[0m\u001b[1;33m\u001b[0m\u001b[1;33m\u001b[0m\u001b[0m\n",
      "\u001b[1;31mUnboundLocalError\u001b[0m: local variable 'class_instance' referenced before assignment"
     ]
    }
   ],
   "source": [
    "object2color = np.load('./Dataset/object2color.npy')\n",
    "create_coco(img_path, label_path, './Dataset/data.json', object2color=object2color, crop_size=[75, 75, 28, 28], down_scale=4)\n",
    "#create_coco(img_path, label_path, './Dataset/data.json')"
   ]
  }
 ],
 "metadata": {
  "anaconda-cloud": {},
  "kernelspec": {
   "display_name": "Python 3",
   "language": "python",
   "name": "python3"
  },
  "language_info": {
   "codemirror_mode": {
    "name": "ipython",
    "version": 3
   },
   "file_extension": ".py",
   "mimetype": "text/x-python",
   "name": "python",
   "nbconvert_exporter": "python",
   "pygments_lexer": "ipython3",
   "version": "3.7.2"
  }
 },
 "nbformat": 4,
 "nbformat_minor": 1
}
