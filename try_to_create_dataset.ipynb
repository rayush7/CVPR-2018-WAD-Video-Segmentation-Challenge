{
 "cells": [
  {
   "cell_type": "code",
   "execution_count": 1,
   "metadata": {},
   "outputs": [],
   "source": [
    "from PIL import Image\n",
    "from create_dataset import create_coco\n",
    "\n",
    "import matplotlib.pyplot as plt\n",
    "import os\n",
    "import numpy as np\n",
    "import tqdm\n",
    "import datetime\n",
    "import json\n",
    "%matplotlib inline\n",
    "\n",
    "label_name = os.listdir('./Dataset/sample_train_label/')\n",
    "label_path = ['./Dataset/sample_train_label/'+name for name in label_name]\n",
    "label_path.sort()\n",
    "############# To Delete ###############\n",
    "label_path = label_path[0:10]\n",
    "############# To Delete ###############\n",
    "\n",
    "img_name = os.listdir('./Dataset/sample_train_color/')\n",
    "img_path = ['./Dataset/sample_train_color/'+name for name in img_name]\n",
    "img_path.sort()\n",
    "############# To Delete #1#############\n",
    "img_path = img_path[0:10]\n",
    "############# To Delete ###############"
   ]
  },
  {
   "cell_type": "code",
   "execution_count": 3,
   "metadata": {},
   "outputs": [
    {
     "name": "stdout",
     "output_type": "stream",
     "text": [
      "Creating image list...\n",
      "Creating object2color dictionary...\n"
     ]
    },
    {
     "name": "stderr",
     "output_type": "stream",
     "text": [
      "10it [00:05,  1.86it/s]\n"
     ]
    },
    {
     "name": "stdout",
     "output_type": "stream",
     "text": [
      "Creating annotation list...\n"
     ]
    },
    {
     "name": "stderr",
     "output_type": "stream",
     "text": [
      "\r",
      "0it [00:00, ?it/s]"
     ]
    },
    {
     "name": "stdout",
     "output_type": "stream",
     "text": [
      "Image ID  0 could not find the bounding boxs\n",
      "Image ID  0 could not find the bounding boxs\n",
      "Image ID  0 could not find the bounding boxs\n"
     ]
    },
    {
     "name": "stderr",
     "output_type": "stream",
     "text": [
      "2it [00:02,  1.34s/it]"
     ]
    },
    {
     "name": "stdout",
     "output_type": "stream",
     "text": [
      "Image ID  2 could not find the bounding boxs\n"
     ]
    },
    {
     "name": "stderr",
     "output_type": "stream",
     "text": [
      "10it [00:08,  1.31it/s]\n"
     ]
    }
   ],
   "source": [
    "create_coco(img_path, label_path, './Dataset/data.json', crop_size=[75, 75, 28, 28], down_scale=4)\n",
    "#create_coco(img_path, label_path, './Dataset/data.json')"
   ]
  },
  {
   "cell_type": "code",
   "execution_count": 2,
   "metadata": {},
   "outputs": [],
   "source": [
    "from create_dataset import clean_image_list\n",
    "\n",
    "# Loading your json\n",
    "annotations = ''\n",
    "with open('./Your/path/to/json', 'r') as f:\n",
    "    for line in f:\n",
    "        annotations += line\n",
    "annotations = json.loads(annotations)\n",
    "\n",
    "# Clean the image list\n",
    "image_list = clean_image_list(annotations['images'], annotations['annotations'])\n",
    "annotations['images'] = image_list\n",
    "\n",
    "# Save the file\n",
    "with open('./Your/path/to/new/json', 'w') as f:\n",
    "    json.dumps(annotations, f, indent=4)"
   ]
  }
 ],
 "metadata": {
  "anaconda-cloud": {},
  "kernelspec": {
   "display_name": "Python 3",
   "language": "python",
   "name": "python3"
  },
  "language_info": {
   "codemirror_mode": {
    "name": "ipython",
    "version": 3
   },
   "file_extension": ".py",
   "mimetype": "text/x-python",
   "name": "python",
   "nbconvert_exporter": "python",
   "pygments_lexer": "ipython3",
   "version": "3.7.2"
  }
 },
 "nbformat": 4,
 "nbformat_minor": 1
}
