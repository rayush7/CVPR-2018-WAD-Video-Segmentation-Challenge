{
 "cells": [
  {
   "cell_type": "code",
   "execution_count": 1,
   "metadata": {},
   "outputs": [],
   "source": [
    "from PIL import Image\n",
    "from create_dataset import create_coco, create_object2color\n",
    "\n",
    "import matplotlib.pyplot as plt\n",
    "import os\n",
    "import numpy as np\n",
    "import tqdm\n",
    "import datetime\n",
    "import json\n",
    "%matplotlib inline\n",
    "\n",
    "label_name = os.listdir('./Dataset/sample_train_label/')\n",
    "label_path = ['./Dataset/sample_train_label/'+name for name in label_name]\n",
    "label_path.sort()\n",
    "############# To Delete ###############\n",
    "label_path = label_path\n",
    "############# To Delete ###############\n",
    "\n",
    "img_name = os.listdir('./Dataset/sample_train_color/')\n",
    "img_path = ['./Dataset/sample_train_color/'+name for name in img_name]\n",
    "img_path.sort()\n",
    "############# To Delete #1#############\n",
    "img_path = img_path\n",
    "############# To Delete ###############"
   ]
  },
  {
   "cell_type": "code",
   "execution_count": 3,
   "metadata": {},
   "outputs": [
    {
     "name": "stdout",
     "output_type": "stream",
     "text": [
      "Creating image list...\n",
      "object2color is obtained...\n"
     ]
    },
    {
     "ename": "UnboundLocalError",
     "evalue": "local variable 'class_instance' referenced before assignment",
     "output_type": "error",
     "traceback": [
      "\u001b[1;31m---------------------------------------------------------------------------\u001b[0m",
      "\u001b[1;31mUnboundLocalError\u001b[0m                         Traceback (most recent call last)",
      "\u001b[1;32m<ipython-input-3-be53d29ea516>\u001b[0m in \u001b[0;36m<module>\u001b[1;34m\u001b[0m\n\u001b[0;32m      1\u001b[0m \u001b[0mobject2color\u001b[0m \u001b[1;33m=\u001b[0m \u001b[0mnp\u001b[0m\u001b[1;33m.\u001b[0m\u001b[0mload\u001b[0m\u001b[1;33m(\u001b[0m\u001b[1;34m'./Dataset/object2color.npy'\u001b[0m\u001b[1;33m)\u001b[0m\u001b[1;33m\u001b[0m\u001b[1;33m\u001b[0m\u001b[0m\n\u001b[1;32m----> 2\u001b[1;33m \u001b[0mcreate_coco\u001b[0m\u001b[1;33m(\u001b[0m\u001b[0mimg_path\u001b[0m\u001b[1;33m,\u001b[0m \u001b[0mlabel_path\u001b[0m\u001b[1;33m,\u001b[0m \u001b[1;34m'./Dataset/data.json'\u001b[0m\u001b[1;33m,\u001b[0m \u001b[0mobject2color\u001b[0m\u001b[1;33m=\u001b[0m\u001b[0mobject2color\u001b[0m\u001b[1;33m,\u001b[0m \u001b[0mcrop_size\u001b[0m\u001b[1;33m=\u001b[0m\u001b[1;33m[\u001b[0m\u001b[1;36m75\u001b[0m\u001b[1;33m,\u001b[0m \u001b[1;36m75\u001b[0m\u001b[1;33m,\u001b[0m \u001b[1;36m28\u001b[0m\u001b[1;33m,\u001b[0m \u001b[1;36m28\u001b[0m\u001b[1;33m]\u001b[0m\u001b[1;33m,\u001b[0m \u001b[0mdown_scale\u001b[0m\u001b[1;33m=\u001b[0m\u001b[1;36m4\u001b[0m\u001b[1;33m)\u001b[0m\u001b[1;33m\u001b[0m\u001b[1;33m\u001b[0m\u001b[0m\n\u001b[0m\u001b[0;32m      3\u001b[0m \u001b[1;31m#create_coco(img_path, label_path, './Dataset/data.json')\u001b[0m\u001b[1;33m\u001b[0m\u001b[1;33m\u001b[0m\u001b[1;33m\u001b[0m\u001b[0m\n",
      "\u001b[1;32mD:\\Tsou\\Documents\\Supelec\\3eme_annee\\Computer_Vision\\Project\\CVPR-2018-WAD-Video-Segmentation-Challenge\\create_dataset.py\u001b[0m in \u001b[0;36mcreate_coco\u001b[1;34m(img_path, label_path, destination, object2color, crop_size, down_scale)\u001b[0m\n\u001b[0;32m     46\u001b[0m     \u001b[1;32melse\u001b[0m\u001b[1;33m:\u001b[0m\u001b[1;33m\u001b[0m\u001b[1;33m\u001b[0m\u001b[0m\n\u001b[0;32m     47\u001b[0m         \u001b[0mprint\u001b[0m\u001b[1;33m(\u001b[0m\u001b[1;34m'object2color is obtained...'\u001b[0m\u001b[1;33m)\u001b[0m\u001b[1;33m\u001b[0m\u001b[1;33m\u001b[0m\u001b[0m\n\u001b[1;32m---> 48\u001b[1;33m     \u001b[0mcategory_ids\u001b[0m \u001b[1;33m=\u001b[0m \u001b[0mcreate_color2category\u001b[0m\u001b[1;33m(\u001b[0m\u001b[0mclass_instance\u001b[0m\u001b[1;33m,\u001b[0m \u001b[0mobject2color\u001b[0m\u001b[1;33m)\u001b[0m\u001b[1;33m\u001b[0m\u001b[1;33m\u001b[0m\u001b[0m\n\u001b[0m\u001b[0;32m     49\u001b[0m \u001b[1;33m\u001b[0m\u001b[0m\n\u001b[0;32m     50\u001b[0m     \u001b[0mis_crowd\u001b[0m \u001b[1;33m=\u001b[0m \u001b[1;36m0\u001b[0m\u001b[1;33m\u001b[0m\u001b[1;33m\u001b[0m\u001b[0m\n",
      "\u001b[1;31mUnboundLocalError\u001b[0m: local variable 'class_instance' referenced before assignment"
     ]
    }
   ],
   "source": [
    "object2color = np.load('./Dataset/object2color.npy')\n",
    "create_coco(img_path, label_path, './Dataset/data.json', object2color=object2color, crop_size=[75, 75, 28, 28], down_scale=4)\n",
    "#create_coco(img_path, label_path, './Dataset/data.json')"
   ]
  },
  {
   "cell_type": "code",
   "execution_count": 12,
   "metadata": {},
   "outputs": [
    {
     "data": {
      "text/plain": [
       "{(1, 0): (82, 7, 198),\n",
       " (1, 1): (82, 2, 26),\n",
       " (1, 2): (221, 144, 33),\n",
       " (1, 3): (251, 136, 60),\n",
       " (1, 4): (78, 92, 137),\n",
       " (1, 5): (83, 239, 115),\n",
       " (1, 6): (50, 0, 184),\n",
       " (1, 7): (232, 37, 75),\n",
       " (1, 8): (143, 232, 227),\n",
       " (1, 9): (142, 176, 21),\n",
       " (1, 10): (154, 48, 171),\n",
       " (1, 11): (123, 207, 243),\n",
       " (1, 12): (212, 121, 73),\n",
       " (1, 13): (184, 119, 218),\n",
       " (1, 14): (31, 218, 191),\n",
       " (1, 15): (73, 209, 51),\n",
       " (1, 16): (170, 237, 197),\n",
       " (1, 17): (241, 1, 76),\n",
       " (1, 18): (117, 199, 115),\n",
       " (1, 19): (247, 174, 254),\n",
       " (1, 20): (149, 75, 189),\n",
       " (1, 21): (194, 39, 174),\n",
       " (1, 22): (133, 161, 207),\n",
       " (1, 23): (120, 1, 223),\n",
       " (1, 24): (200, 7, 237),\n",
       " (2, 0): (47, 174, 244),\n",
       " (2, 1): (205, 206, 237),\n",
       " (2, 2): (171, 160, 32),\n",
       " (2, 3): (100, 4, 120),\n",
       " (2, 4): (188, 145, 111),\n",
       " (3, 0): (245, 80, 36),\n",
       " (3, 1): (157, 25, 1),\n",
       " (3, 2): (250, 101, 132),\n",
       " (3, 3): (164, 68, 50),\n",
       " (3, 4): (180, 119, 132),\n",
       " (3, 5): (35, 193, 68),\n",
       " (4, 0): (37, 116, 252),\n",
       " (4, 1): (100, 53, 19),\n",
       " (4, 2): (201, 71, 139),\n",
       " (4, 3): (242, 105, 26),\n",
       " (4, 4): (156, 88, 188),\n",
       " (4, 5): (124, 93, 115),\n",
       " (4, 6): (13, 2, 20),\n",
       " (4, 7): (209, 223, 135),\n",
       " (4, 8): (40, 54, 44),\n",
       " (4, 9): (11, 74, 124),\n",
       " (4, 10): (191, 225, 232),\n",
       " (4, 11): (0, 247, 192),\n",
       " (4, 12): (86, 180, 96),\n",
       " (4, 13): (172, 180, 237),\n",
       " (4, 14): (161, 16, 244),\n",
       " (4, 15): (24, 123, 184),\n",
       " (4, 16): (123, 104, 139),\n",
       " (4, 17): (37, 211, 51),\n",
       " (4, 18): (21, 55, 134),\n",
       " (4, 19): (245, 1, 227),\n",
       " (4, 20): (110, 42, 96),\n",
       " (4, 21): (240, 59, 231),\n",
       " (4, 22): (206, 166, 86),\n",
       " (4, 23): (213, 20, 239),\n",
       " (4, 24): (107, 79, 217),\n",
       " (4, 25): (234, 235, 210),\n",
       " (5, 0): (150, 74, 140),\n",
       " (5, 1): (211, 161, 86),\n",
       " (5, 2): (159, 142, 204),\n",
       " (6, 0): (254, 6, 201),\n",
       " (6, 1): (38, 21, 111),\n",
       " (6, 2): (34, 97, 13),\n",
       " (6, 3): (76, 174, 154),\n",
       " (7, 0): (224, 161, 114),\n",
       " (7, 1): (202, 175, 101)}"
      ]
     },
     "execution_count": 12,
     "metadata": {},
     "output_type": "execute_result"
    }
   ],
   "source": [
    "object2color.any()"
   ]
  }
 ],
 "metadata": {
  "anaconda-cloud": {},
  "kernelspec": {
   "display_name": "Python 3",
   "language": "python",
   "name": "python3"
  },
  "language_info": {
   "codemirror_mode": {
    "name": "ipython",
    "version": 3
   },
   "file_extension": ".py",
   "mimetype": "text/x-python",
   "name": "python",
   "nbconvert_exporter": "python",
   "pygments_lexer": "ipython3",
   "version": "3.7.2"
  }
 },
 "nbformat": 4,
 "nbformat_minor": 1
}
